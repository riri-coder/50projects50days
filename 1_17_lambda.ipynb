{
  "cells": [
    {
      "cell_type": "markdown",
      "metadata": {
        "id": "view-in-github",
        "colab_type": "text"
      },
      "source": [
        "<a href=\"https://colab.research.google.com/github/riri-coder/50projects50days/blob/master/1_17_lambda.ipynb\" target=\"_parent\"><img src=\"https://colab.research.google.com/assets/colab-badge.svg\" alt=\"Open In Colab\"/></a>"
      ]
    },
    {
      "cell_type": "markdown",
      "id": "fb3e5a5f",
      "metadata": {
        "id": "fb3e5a5f"
      },
      "source": [
        "<a target=\"_blank\" href=\"https://colab.research.google.com/github/lukebarousse/Python_Data_Analytics_Course/blob/main/4_Problems/1_17_Lambda.ipynb\">\n",
        "  <img src=\"https://colab.research.google.com/assets/colab-badge.svg\" alt=\"Open In Colab\"/>\n",
        "</a>"
      ]
    },
    {
      "cell_type": "markdown",
      "id": "d1f5cdd2",
      "metadata": {
        "id": "d1f5cdd2"
      },
      "source": [
        "## 🟩 Calculate Average Salary (1.17.1)"
      ]
    },
    {
      "cell_type": "code",
      "execution_count": null,
      "id": "d1091543",
      "metadata": {
        "colab": {
          "base_uri": "https://localhost:8080/"
        },
        "id": "d1091543",
        "outputId": "e8a1aedb-fed4-4c85-c35e-35c67338e273"
      },
      "outputs": [
        {
          "output_type": "stream",
          "name": "stdout",
          "text": [
            "108000.0\n"
          ]
        }
      ],
      "source": [
        "# Code Needed\n",
        "salaries = [95000, 120000, 105000, 90000, 130000]\n",
        "\n",
        "avg_salary = sum(salaries)/ len(salaries)\n",
        "print(avg_salary)"
      ]
    },
    {
      "cell_type": "markdown",
      "id": "045da046",
      "metadata": {
        "id": "045da046"
      },
      "source": [
        "---"
      ]
    },
    {
      "cell_type": "markdown",
      "id": "5f3ad67e",
      "metadata": {
        "id": "5f3ad67e"
      },
      "source": [
        "## 🟨 Filter Job Titles (1.17.2)"
      ]
    },
    {
      "cell_type": "code",
      "execution_count": null,
      "id": "cf09815a",
      "metadata": {
        "id": "cf09815a"
      },
      "outputs": [],
      "source": [
        "# Code Needed\n",
        "job_titles = ['Data Scientist', 'Data Engineer', 'Machine Learning Engineer', 'Data Analyst']\n",
        "\n"
      ]
    },
    {
      "cell_type": "markdown",
      "id": "e43299da",
      "metadata": {
        "id": "e43299da"
      },
      "source": [
        "---"
      ]
    },
    {
      "cell_type": "markdown",
      "id": "f0ba4566",
      "metadata": {
        "id": "f0ba4566"
      },
      "source": [
        "## 🟥 Filter Remote Python Jobs (1.17.3)"
      ]
    },
    {
      "cell_type": "code",
      "execution_count": null,
      "id": "3c4339b8",
      "metadata": {
        "colab": {
          "base_uri": "https://localhost:8080/"
        },
        "id": "3c4339b8",
        "outputId": "4ae6bb09-48a0-4e4e-f0aa-cb99367c91f9"
      },
      "outputs": [
        {
          "output_type": "stream",
          "name": "stdout",
          "text": [
            "[{'title': 'Data Scientist', 'skills': ['Python', 'SQL'], 'remote': True}, {'title': 'Machine Learning Engineer', 'skills': ['Python', 'TensorFlow'], 'remote': True}]\n"
          ]
        }
      ],
      "source": [
        "# Code Needed\n",
        "job_postings = [\n",
        "    {'title': 'Data Scientist', 'skills': ['Python', 'SQL'], 'remote': True},\n",
        "    {'title': 'Data Analyst', 'skills': ['Excel', 'SQL'], 'remote': False},\n",
        "    {'title': 'Machine Learning Engineer', 'skills': ['Python', 'TensorFlow'], 'remote': True},\n",
        "    {'title': 'Software Developer', 'skills': ['Java', 'C++'], 'remote': True}\n",
        "]\n",
        "\n",
        "filter_criteria = lambda job: 'Python' in job['skills'] and job['remote']\n",
        "\n",
        "python_remote_jobs = list(filter(filter_criteria, job_postings))\n",
        "\n",
        "print(python_remote_jobs)"
      ]
    },
    {
      "cell_type": "markdown",
      "id": "96baab4a",
      "metadata": {
        "id": "96baab4a"
      },
      "source": [
        "---"
      ]
    }
  ],
  "metadata": {
    "colab": {
      "provenance": [],
      "include_colab_link": true
    },
    "language_info": {
      "name": "python"
    },
    "kernelspec": {
      "name": "python3",
      "display_name": "Python 3"
    }
  },
  "nbformat": 4,
  "nbformat_minor": 5
}