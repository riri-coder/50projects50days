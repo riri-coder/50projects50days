{
  "cells": [
    {
      "cell_type": "markdown",
      "id": "a0409ef1",
      "metadata": {
        "id": "a0409ef1"
      },
      "source": [
        "<a target=\"_blank\" href=\"https://colab.research.google.com/github/lukebarousse/Python_Data_Analytics_Course/blob/main/4_Problems/1_09_Dictionaries.ipynb\">\n",
        "  <img src=\"https://colab.research.google.com/assets/colab-badge.svg\" alt=\"Open In Colab\"/>\n",
        "</a>"
      ]
    },
    {
      "cell_type": "markdown",
      "id": "e9170a0a",
      "metadata": {
        "id": "e9170a0a"
      },
      "source": [
        "## 🟩 Access Job Postings (1.9.1)"
      ]
    },
    {
      "cell_type": "code",
      "execution_count": 1,
      "id": "c94b145c",
      "metadata": {
        "id": "c94b145c",
        "outputId": "03e8b2e0-ce10-47e8-bf47-b20fea3e40be",
        "colab": {
          "base_uri": "https://localhost:8080/"
        }
      },
      "outputs": [
        {
          "output_type": "stream",
          "name": "stdout",
          "text": [
            "120\n"
          ]
        }
      ],
      "source": [
        "# Code Needed\n",
        "job_postings = {'Data Scientist': 120, 'Data Analyst': 80, 'Machine Learning Engineer': 50}\n",
        "print(job_postings['Data Scientist'])"
      ]
    },
    {
      "cell_type": "markdown",
      "id": "6206eea6",
      "metadata": {
        "id": "6206eea6"
      },
      "source": [
        "---"
      ]
    },
    {
      "cell_type": "markdown",
      "id": "9a967eb2",
      "metadata": {
        "id": "9a967eb2"
      },
      "source": [
        "## 🟩 Add Job Role (1.9.2)"
      ]
    },
    {
      "cell_type": "code",
      "execution_count": 2,
      "id": "e142f46f",
      "metadata": {
        "id": "e142f46f",
        "outputId": "09b91bf8-2db0-43bb-e36d-8313bdbb28f8",
        "colab": {
          "base_uri": "https://localhost:8080/"
        }
      },
      "outputs": [
        {
          "output_type": "stream",
          "name": "stdout",
          "text": [
            "{'Data Scientist': 120, 'Data Analyst': 80, 'Machine Learning Engineer': 50, 'AI Specialist': 30}\n"
          ]
        }
      ],
      "source": [
        "# Code Needed\n",
        "job_postings = {'Data Scientist': 120, 'Data Analyst': 80, 'Machine Learning Engineer': 50}\n",
        "job_postings['AI Specialist'] = 30\n",
        "print(job_postings)"
      ]
    },
    {
      "cell_type": "markdown",
      "id": "3305a885",
      "metadata": {
        "id": "3305a885"
      },
      "source": [
        "---"
      ]
    },
    {
      "cell_type": "markdown",
      "id": "9d1a27ec",
      "metadata": {
        "id": "9d1a27ec"
      },
      "source": [
        "## 🟨 Remove Job Role (1.9.3)"
      ]
    },
    {
      "cell_type": "code",
      "execution_count": 3,
      "id": "3e97c9cc",
      "metadata": {
        "id": "3e97c9cc",
        "outputId": "c6bb32f0-10d9-4b80-db0a-ef6fd81ab3b8",
        "colab": {
          "base_uri": "https://localhost:8080/"
        }
      },
      "outputs": [
        {
          "output_type": "stream",
          "name": "stdout",
          "text": [
            "{'Data Scientist': 120, 'Machine Learning Engineer': 50}\n"
          ]
        }
      ],
      "source": [
        "# Code Needed\n",
        "job_postings = {'Data Scientist': 120, 'Data Analyst': 80, 'Machine Learning Engineer': 50}\n",
        "del job_postings['Data Analyst']\n",
        "print(job_postings)"
      ]
    },
    {
      "cell_type": "markdown",
      "id": "4e805b06",
      "metadata": {
        "id": "4e805b06"
      },
      "source": [
        "---"
      ]
    },
    {
      "cell_type": "markdown",
      "id": "bb334124",
      "metadata": {
        "id": "bb334124"
      },
      "source": [
        "## 🟨 Merge Dictionaries (1.9.4)"
      ]
    },
    {
      "cell_type": "code",
      "execution_count": 4,
      "id": "d2fd3ae2",
      "metadata": {
        "id": "d2fd3ae2",
        "outputId": "e784e79d-c33e-420c-b3f8-ba74c991225e",
        "colab": {
          "base_uri": "https://localhost:8080/"
        }
      },
      "outputs": [
        {
          "output_type": "stream",
          "name": "stdout",
          "text": [
            "{'Data Scientist': 120, 'Data Analyst': 80, 'Machine Learning Engineer': 50, 'AI Specialist': 30}\n"
          ]
        }
      ],
      "source": [
        "# Code Needed\n",
        "job_postings1 = {'Data Scientist': 120, 'Data Analyst': 80}\n",
        "job_postings2 = {'Machine Learning Engineer': 50, 'AI Specialist': 30}\n",
        "job_postings1.update(job_postings2)\n",
        "print(job_postings1)"
      ]
    },
    {
      "cell_type": "markdown",
      "id": "b61f7b57",
      "metadata": {
        "id": "b61f7b57"
      },
      "source": [
        "---"
      ]
    },
    {
      "cell_type": "markdown",
      "id": "791a349d",
      "metadata": {
        "id": "791a349d"
      },
      "source": [
        "## 🟥 Create Nested Dictionary (1.9.5)"
      ]
    },
    {
      "cell_type": "code",
      "execution_count": 17,
      "id": "b5acf180",
      "metadata": {
        "id": "b5acf180",
        "outputId": "4bde194c-a20f-40c8-9eb3-266bcb0a9f6f",
        "colab": {
          "base_uri": "https://localhost:8080/"
        }
      },
      "outputs": [
        {
          "output_type": "stream",
          "name": "stdout",
          "text": [
            "[{'Salary': 120, 'Location': 'New York'}, {'Salary': 80, 'Location': 'San Francisco'}, {'Salary': 50, 'Location': 'London'}]\n"
          ]
        }
      ],
      "source": [
        "job_postings = {'Data Scientist': {'Salary': 120, 'Location': 'New York'},\n",
        "                'Data Analyst': {'Salary': 80, 'Location': 'San Francisco'},\n",
        "                'Machine Learning Engineer': {'Salary': 50, 'Location': 'London'}\n",
        "}\n",
        "\n",
        "print(list(job_postings.values()))"
      ]
    },
    {
      "cell_type": "markdown",
      "id": "30d9f6d7",
      "metadata": {
        "id": "30d9f6d7"
      },
      "source": [
        "---"
      ]
    },
    {
      "cell_type": "code",
      "source": [],
      "metadata": {
        "id": "Wn3fghMYqHFF"
      },
      "id": "Wn3fghMYqHFF",
      "execution_count": null,
      "outputs": []
    }
  ],
  "metadata": {
    "colab": {
      "provenance": []
    },
    "language_info": {
      "name": "python"
    },
    "kernelspec": {
      "name": "python3",
      "display_name": "Python 3"
    }
  },
  "nbformat": 4,
  "nbformat_minor": 5
}