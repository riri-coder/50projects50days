{
  "cells": [
    {
      "cell_type": "markdown",
      "id": "5c289cc9",
      "metadata": {
        "id": "5c289cc9"
      },
      "source": [
        "<a target=\"_blank\" href=\"https://colab.research.google.com/github/lukebarousse/Python_Data_Analytics_Course/blob/main/4_Problems/1_10_Sets.ipynb\">\n",
        "  <img src=\"https://colab.research.google.com/assets/colab-badge.svg\" alt=\"Open In Colab\"/>\n",
        "</a>"
      ]
    },
    {
      "cell_type": "markdown",
      "id": "96889df9",
      "metadata": {
        "id": "96889df9"
      },
      "source": [
        "## 🟩 Add Job Title to Set (1.10.1)"
      ]
    },
    {
      "cell_type": "code",
      "execution_count": 2,
      "id": "6fb688cc",
      "metadata": {
        "id": "6fb688cc",
        "outputId": "7cd225e5-a3ca-4667-a11b-2b0c9073634c",
        "colab": {
          "base_uri": "https://localhost:8080/"
        }
      },
      "outputs": [
        {
          "output_type": "stream",
          "name": "stdout",
          "text": [
            "{'Machine Learning Engineer', 'Data Scientist', 'Data Analyst', 'Data Engineer'}\n"
          ]
        }
      ],
      "source": [
        "# Code Needed\n",
        "unique_job_titles = {'Data Scientist', 'Data Analyst', 'Machine Learning Engineer'}\n",
        "unique_job_titles.add('Data Engineer')\n",
        "print(unique_job_titles)"
      ]
    },
    {
      "cell_type": "markdown",
      "id": "2ce68b60",
      "metadata": {
        "id": "2ce68b60"
      },
      "source": [
        "---"
      ]
    },
    {
      "cell_type": "markdown",
      "id": "88c8936c",
      "metadata": {
        "id": "88c8936c"
      },
      "source": [
        "## 🟩 Remove Job Title from Set (1.10.2)"
      ]
    },
    {
      "cell_type": "code",
      "execution_count": 3,
      "id": "dd12611a",
      "metadata": {
        "id": "dd12611a",
        "outputId": "74ca95b2-251a-435e-fb54-78c17cb7d481",
        "colab": {
          "base_uri": "https://localhost:8080/"
        }
      },
      "outputs": [
        {
          "output_type": "stream",
          "name": "stdout",
          "text": [
            "{'Machine Learning Engineer', 'Data Scientist'}\n"
          ]
        }
      ],
      "source": [
        "# Code Needed\n",
        "unique_job_titles = {'Data Scientist', 'Data Analyst', 'Machine Learning Engineer'}\n",
        "unique_job_titles.remove('Data Analyst')\n",
        "print(unique_job_titles)"
      ]
    },
    {
      "cell_type": "markdown",
      "id": "4c803884",
      "metadata": {
        "id": "4c803884"
      },
      "source": [
        "---"
      ]
    },
    {
      "cell_type": "markdown",
      "id": "ec940385",
      "metadata": {
        "id": "ec940385"
      },
      "source": [
        "## 🟩 Create Unique Job Locations Set (1.10.3)"
      ]
    },
    {
      "cell_type": "code",
      "execution_count": 4,
      "id": "fd7983e1",
      "metadata": {
        "id": "fd7983e1",
        "outputId": "1e08b274-cb7e-472e-86b8-abbf4bc3e51e",
        "colab": {
          "base_uri": "https://localhost:8080/"
        }
      },
      "outputs": [
        {
          "output_type": "execute_result",
          "data": {
            "text/plain": [
              "{'Austin', 'New York', 'San Francisco'}"
            ]
          },
          "metadata": {},
          "execution_count": 4
        }
      ],
      "source": [
        "# Code Needed\n",
        "job_locations = ['New York', 'San Francisco', 'New York', 'Austin', 'San Francisco']\n",
        "set(job_locations)"
      ]
    },
    {
      "cell_type": "markdown",
      "id": "bfac45d1",
      "metadata": {
        "id": "bfac45d1"
      },
      "source": [
        "---"
      ]
    },
    {
      "cell_type": "markdown",
      "id": "910d6bab",
      "metadata": {
        "id": "910d6bab"
      },
      "source": [
        "## 🟨 Union of Job Skills Sets (1.10.4)"
      ]
    },
    {
      "cell_type": "code",
      "execution_count": 5,
      "id": "75ba0d0c",
      "metadata": {
        "id": "75ba0d0c",
        "outputId": "3219e275-3427-422e-d94c-9de8841b55d4",
        "colab": {
          "base_uri": "https://localhost:8080/"
        }
      },
      "outputs": [
        {
          "output_type": "execute_result",
          "data": {
            "text/plain": [
              "{'Machine Learning', 'Python', 'R', 'SQL', 'Tableau'}"
            ]
          },
          "metadata": {},
          "execution_count": 5
        }
      ],
      "source": [
        "# Code Needed\n",
        "skills_set1 = {'Python', 'SQL', 'Tableau'}\n",
        "skills_set2 = {'R', 'SQL', 'Machine Learning'}\n",
        "\n",
        "skills_set1.union(skills_set2)"
      ]
    },
    {
      "cell_type": "markdown",
      "id": "55d254da",
      "metadata": {
        "id": "55d254da"
      },
      "source": [
        "---"
      ]
    }
  ],
  "metadata": {
    "colab": {
      "provenance": []
    },
    "language_info": {
      "name": "python"
    },
    "kernelspec": {
      "name": "python3",
      "display_name": "Python 3"
    }
  },
  "nbformat": 4,
  "nbformat_minor": 5
}