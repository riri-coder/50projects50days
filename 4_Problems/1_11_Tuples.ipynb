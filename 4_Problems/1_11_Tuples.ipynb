{
  "cells": [
    {
      "cell_type": "markdown",
      "id": "20500a42",
      "metadata": {
        "id": "20500a42"
      },
      "source": [
        "<a target=\"_blank\" href=\"https://colab.research.google.com/github/lukebarousse/Python_Data_Analytics_Course/blob/main/4_Problems/1_11_Tuples.ipynb\">\n",
        "  <img src=\"https://colab.research.google.com/assets/colab-badge.svg\" alt=\"Open In Colab\"/>\n",
        "</a>"
      ]
    },
    {
      "cell_type": "markdown",
      "id": "5abdbe55",
      "metadata": {
        "id": "5abdbe55"
      },
      "source": [
        "## 🟩 Access Job Role (1.11.1)"
      ]
    },
    {
      "cell_type": "code",
      "execution_count": 3,
      "id": "1d281195",
      "metadata": {
        "id": "1d281195",
        "outputId": "3161a853-7c0f-474d-e327-114ee6ded8df",
        "colab": {
          "base_uri": "https://localhost:8080/"
        }
      },
      "outputs": [
        {
          "output_type": "execute_result",
          "data": {
            "text/plain": [
              "('Data Scientist', 'Data Analyst', 'Machine Learning Engineer')"
            ]
          },
          "metadata": {},
          "execution_count": 3
        }
      ],
      "source": [
        "# Code Needed\n",
        "job_roles = ('Data Scientist', 'Data Analyst', 'Machine Learning Engineer')\n",
        "job_roles[0:3]"
      ]
    },
    {
      "cell_type": "markdown",
      "id": "55986731",
      "metadata": {
        "id": "55986731"
      },
      "source": [
        "---"
      ]
    },
    {
      "cell_type": "markdown",
      "id": "ff20fe2b",
      "metadata": {
        "id": "ff20fe2b"
      },
      "source": [
        "## 🟨 Add Job Role to Tuple (1.11.2)"
      ]
    },
    {
      "cell_type": "code",
      "execution_count": 4,
      "id": "3c540847",
      "metadata": {
        "id": "3c540847",
        "outputId": "c85eab4d-ea49-4fbf-ae91-a6428000d5a3",
        "colab": {
          "base_uri": "https://localhost:8080/"
        }
      },
      "outputs": [
        {
          "output_type": "execute_result",
          "data": {
            "text/plain": [
              "('Data Scientist',\n",
              " 'Data Analyst',\n",
              " 'Machine Learning Engineer',\n",
              " 'Data Engineer')"
            ]
          },
          "metadata": {},
          "execution_count": 4
        }
      ],
      "source": [
        "# Code Needed\n",
        "job_roles = ('Data Scientist', 'Data Analyst', 'Machine Learning Engineer')\n",
        "job_roleslist= list(job_roles)\n",
        "job_roleslist.append('Data Engineer')\n",
        "job_roles = tuple(job_roleslist)\n",
        "job_roles"
      ]
    },
    {
      "cell_type": "markdown",
      "id": "675ef461",
      "metadata": {
        "id": "675ef461"
      },
      "source": [
        "---"
      ]
    },
    {
      "cell_type": "markdown",
      "id": "790f26db",
      "metadata": {
        "id": "790f26db"
      },
      "source": [
        "## 🟨 Remove Job Role from Tuple (1.11.3)"
      ]
    },
    {
      "cell_type": "code",
      "execution_count": 5,
      "id": "0b7cb7af",
      "metadata": {
        "id": "0b7cb7af",
        "outputId": "b0778b11-c85f-47e2-aec2-e061f035f120",
        "colab": {
          "base_uri": "https://localhost:8080/"
        }
      },
      "outputs": [
        {
          "output_type": "execute_result",
          "data": {
            "text/plain": [
              "('Data Scientist', 'Machine Learning Engineer')"
            ]
          },
          "metadata": {},
          "execution_count": 5
        }
      ],
      "source": [
        "# Code Needed\n",
        "job_roles = ('Data Scientist', 'Data Analyst', 'Machine Learning Engineer')\n",
        "job_roleslist= list(job_roles)\n",
        "job_roleslist.remove('Data Analyst')\n",
        "job_roles = tuple(job_roleslist)\n",
        "job_roles"
      ]
    },
    {
      "cell_type": "markdown",
      "id": "ffb135cd",
      "metadata": {
        "id": "ffb135cd"
      },
      "source": [
        "---"
      ]
    },
    {
      "cell_type": "markdown",
      "id": "62a6e18a",
      "metadata": {
        "id": "62a6e18a"
      },
      "source": [
        "## 🟨 Unpack Job Postings Tuple (1.11.4)"
      ]
    },
    {
      "cell_type": "code",
      "execution_count": 9,
      "id": "bb771d79",
      "metadata": {
        "colab": {
          "base_uri": "https://localhost:8080/"
        },
        "id": "bb771d79",
        "outputId": "9d9fdbcd-5ce7-4b5d-ed55-d4dad6c766fa"
      },
      "outputs": [
        {
          "output_type": "stream",
          "name": "stdout",
          "text": [
            "120\n",
            "80\n",
            "50\n"
          ]
        }
      ],
      "source": [
        "# Code Needed\n",
        "job_postings = (120, 80, 50)\n",
        "\n",
        "full_time, part_time, freelance = job_postings\n",
        "\n",
        "# Now you can access the values directly\n",
        "print(full_time)    # 120\n",
        "print(part_time)    # 80\n",
        "print(freelance)    # 50\n",
        "\n"
      ]
    },
    {
      "cell_type": "markdown",
      "id": "ca603ef4",
      "metadata": {
        "id": "ca603ef4"
      },
      "source": [
        "---"
      ]
    },
    {
      "cell_type": "markdown",
      "id": "b0965dc7",
      "metadata": {
        "id": "b0965dc7"
      },
      "source": [
        "## 🟥 Extract Nested Value from Tuple (1.11.5)"
      ]
    },
    {
      "cell_type": "code",
      "execution_count": 10,
      "id": "704fad1b",
      "metadata": {
        "id": "704fad1b",
        "outputId": "6c16e336-f290-4065-f19b-391e3dedeb41",
        "colab": {
          "base_uri": "https://localhost:8080/"
        }
      },
      "outputs": [
        {
          "output_type": "execute_result",
          "data": {
            "text/plain": [
              "120"
            ]
          },
          "metadata": {},
          "execution_count": 10
        }
      ],
      "source": [
        "# Code Needed\n",
        "job_details = (('Data Scientist', 120), ('Data Analyst', 80), ('Machine Learning Engineer', 50))\n",
        "job_details[0][1]"
      ]
    },
    {
      "cell_type": "markdown",
      "id": "78683f7a",
      "metadata": {
        "id": "78683f7a"
      },
      "source": [
        "---"
      ]
    }
  ],
  "metadata": {
    "colab": {
      "provenance": []
    },
    "language_info": {
      "name": "python"
    },
    "kernelspec": {
      "name": "python3",
      "display_name": "Python 3"
    }
  },
  "nbformat": 4,
  "nbformat_minor": 5
}