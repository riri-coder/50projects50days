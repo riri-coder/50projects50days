{
  "cells": [
    {
      "cell_type": "markdown",
      "id": "d307ee11",
      "metadata": {
        "id": "d307ee11"
      },
      "source": [
        "<a target=\"_blank\" href=\"https://colab.research.google.com/github/lukebarousse/Python_Data_Analytics_Course/blob/main/4_Problems/1_13_Loops.ipynb\">\n",
        "  <img src=\"https://colab.research.google.com/assets/colab-badge.svg\" alt=\"Open In Colab\"/>\n",
        "</a>"
      ]
    },
    {
      "cell_type": "markdown",
      "id": "37897aa9",
      "metadata": {
        "id": "37897aa9"
      },
      "source": [
        "## 🟩 Print Job Titles (1.13.1)"
      ]
    },
    {
      "cell_type": "code",
      "execution_count": 1,
      "id": "45d217e3",
      "metadata": {
        "id": "45d217e3",
        "outputId": "76212743-81e5-4f47-81e1-3cc02ef5828b",
        "colab": {
          "base_uri": "https://localhost:8080/"
        }
      },
      "outputs": [
        {
          "output_type": "stream",
          "name": "stdout",
          "text": [
            "['Data Scientist', 'Data Analyst', 'Machine Learning Engineer']\n"
          ]
        }
      ],
      "source": [
        "# Code Needed\n",
        "job_titles = ['Data Scientist', 'Data Analyst', 'Machine Learning Engineer']\n",
        "print(job_titles)"
      ]
    },
    {
      "cell_type": "markdown",
      "id": "1943a324",
      "metadata": {
        "id": "1943a324"
      },
      "source": [
        "---"
      ]
    },
    {
      "cell_type": "markdown",
      "id": "90020e24",
      "metadata": {
        "id": "90020e24"
      },
      "source": [
        "## 🟩 Total Job Postings (1.13.2)"
      ]
    },
    {
      "cell_type": "code",
      "execution_count": 3,
      "id": "038f046a",
      "metadata": {
        "id": "038f046a",
        "outputId": "c93c3376-e2f0-4c5c-8ea6-425639763ca7",
        "colab": {
          "base_uri": "https://localhost:8080/"
        }
      },
      "outputs": [
        {
          "output_type": "stream",
          "name": "stdout",
          "text": [
            "5\n"
          ]
        }
      ],
      "source": [
        "# Code Needed\n",
        "job_postings = [5, 10, 15, 20, 25]\n",
        "print(len(job_postings))"
      ]
    },
    {
      "cell_type": "markdown",
      "id": "b4abe1cc",
      "metadata": {
        "id": "b4abe1cc"
      },
      "source": [
        "---"
      ]
    },
    {
      "cell_type": "markdown",
      "id": "4eec072a",
      "metadata": {
        "id": "4eec072a"
      },
      "source": [
        "## 🟨 Print Job Titles with Index (1.13.3)"
      ]
    },
    {
      "cell_type": "code",
      "execution_count": 4,
      "id": "ee175f7b",
      "metadata": {
        "id": "ee175f7b",
        "outputId": "c19e456f-46a6-4994-d918-3d124194d0a3",
        "colab": {
          "base_uri": "https://localhost:8080/"
        }
      },
      "outputs": [
        {
          "output_type": "stream",
          "name": "stdout",
          "text": [
            "[(0, 'Data Scientist'), (1, 'Data Analyst'), (2, 'Machine Learning Engineer')]\n"
          ]
        }
      ],
      "source": [
        "# Code Needed\n",
        "job_titles = ['Data Scientist', 'Data Analyst', 'Machine Learning Engineer']\n",
        "job_titles_with_index = list(enumerate(job_titles))\n",
        "print(job_titles_with_index)"
      ]
    },
    {
      "cell_type": "markdown",
      "id": "d2d5f706",
      "metadata": {
        "id": "d2d5f706"
      },
      "source": [
        "---"
      ]
    },
    {
      "cell_type": "markdown",
      "id": "7001cfa8",
      "metadata": {
        "id": "7001cfa8"
      },
      "source": [
        "## 🟨 Find First Engineer (1.13.4)"
      ]
    },
    {
      "cell_type": "code",
      "execution_count": 34,
      "id": "724ac1bf",
      "metadata": {
        "id": "724ac1bf",
        "outputId": "befaa4e3-39d0-402c-ef66-8477da9728b9",
        "colab": {
          "base_uri": "https://localhost:8080/"
        }
      },
      "outputs": [
        {
          "output_type": "stream",
          "name": "stdout",
          "text": [
            "Machine Learning Engineer\n"
          ]
        }
      ],
      "source": [
        "# Code Needed\n",
        "job_titles = ['Data Scientist', 'Data Analyst', 'Machine Learning Engineer', 'Software Engineer']\n",
        "for jobs in job_titles:\n",
        "  if 'Engineer' in jobs:\n",
        "    print(jobs)\n",
        "    break"
      ]
    },
    {
      "cell_type": "markdown",
      "id": "2021b7cd",
      "metadata": {
        "id": "2021b7cd"
      },
      "source": [
        "---"
      ]
    },
    {
      "cell_type": "markdown",
      "id": "be1bf346",
      "metadata": {
        "id": "be1bf346"
      },
      "source": [
        "## 🟥 Print Job Titles Containing 'Data' (1.13.5)"
      ]
    },
    {
      "cell_type": "code",
      "execution_count": 28,
      "id": "c71d29c9",
      "metadata": {
        "id": "c71d29c9",
        "outputId": "a4801a37-a139-4576-8c5a-d6ce4c19ee38",
        "colab": {
          "base_uri": "https://localhost:8080/"
        }
      },
      "outputs": [
        {
          "output_type": "stream",
          "name": "stdout",
          "text": [
            "Data Scientist\n",
            "Data Analyst\n"
          ]
        }
      ],
      "source": [
        "# Code Needed\n",
        "positions_skills = {\n",
        "    'Data Scientist': ['Python', 'R'],\n",
        "    'Data Analyst': ['SQL', 'Excel'],\n",
        "    'Machine Learning Engineer': ['Python', 'TensorFlow']\n",
        "}\n",
        "\n",
        "\n",
        "for position in positions_skills:\n",
        "    if 'Data' in position:\n",
        "      print(position)\n",
        ""
      ]
    },
    {
      "cell_type": "markdown",
      "id": "11af0530",
      "metadata": {
        "id": "11af0530"
      },
      "source": [
        "---"
      ]
    }
  ],
  "metadata": {
    "colab": {
      "provenance": []
    },
    "language_info": {
      "name": "python"
    },
    "kernelspec": {
      "name": "python3",
      "display_name": "Python 3"
    }
  },
  "nbformat": 4,
  "nbformat_minor": 5
}