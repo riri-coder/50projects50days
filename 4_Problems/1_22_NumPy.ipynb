{
  "cells": [
    {
      "cell_type": "markdown",
      "id": "9135219d",
      "metadata": {
        "id": "9135219d"
      },
      "source": [
        "<a target=\"_blank\" href=\"https://colab.research.google.com/github/lukebarousse/Python_Data_Analytics_Course/blob/main/4_Problems/1_22_NumPy.ipynb\">\n",
        "  <img src=\"https://colab.research.google.com/assets/colab-badge.svg\" alt=\"Open In Colab\"/>\n",
        "</a>"
      ]
    },
    {
      "cell_type": "markdown",
      "id": "bc778d7f",
      "metadata": {
        "id": "bc778d7f"
      },
      "source": [
        "## 🟩 Create NumPy Array (1.22.1)"
      ]
    },
    {
      "cell_type": "code",
      "execution_count": 1,
      "id": "3b7e6275",
      "metadata": {
        "id": "3b7e6275",
        "outputId": "c1e39c7e-a442-4a36-f6ed-34ce31602e8d",
        "colab": {
          "base_uri": "https://localhost:8080/"
        }
      },
      "outputs": [
        {
          "output_type": "execute_result",
          "data": {
            "text/plain": [
              "array([10, 15,  7, 20, 25, 30,  5])"
            ]
          },
          "metadata": {},
          "execution_count": 1
        }
      ],
      "source": [
        "# Code Needed\n",
        "applications_list = [10, 15, 7, 20, 25, 30, 5]\n",
        "\n",
        "import numpy as np\n",
        "np.array(applications_list)"
      ]
    },
    {
      "cell_type": "markdown",
      "id": "e3e3b88b",
      "metadata": {
        "id": "e3e3b88b"
      },
      "source": [
        "---"
      ]
    },
    {
      "cell_type": "markdown",
      "id": "4b3869b5",
      "metadata": {
        "id": "4b3869b5"
      },
      "source": [
        "## 🟩 Slicing Array (1.22.2)"
      ]
    },
    {
      "cell_type": "code",
      "execution_count": 8,
      "id": "a3f8f040",
      "metadata": {
        "id": "a3f8f040",
        "outputId": "8205c7c2-c60d-4df1-8f49-64a839a210a0",
        "colab": {
          "base_uri": "https://localhost:8080/"
        }
      },
      "outputs": [
        {
          "output_type": "execute_result",
          "data": {
            "text/plain": [
              "array([15,  7])"
            ]
          },
          "metadata": {},
          "execution_count": 8
        }
      ],
      "source": [
        "# Code Needed\n",
        "postings_list = [10, 15, 7, 20, 25, 30, 5]\n",
        "\n",
        "postings_list= np.array([10, 15, 7, 20, 25, 30, 5])\n",
        "\n",
        "sliced_postings= postings_list[1:3]\n",
        "\n",
        "sliced_postings"
      ]
    },
    {
      "cell_type": "markdown",
      "id": "45a7a58a",
      "metadata": {
        "id": "45a7a58a"
      },
      "source": [
        "---"
      ]
    },
    {
      "cell_type": "markdown",
      "id": "7b1ebbe9",
      "metadata": {
        "id": "7b1ebbe9"
      },
      "source": [
        "## 🟨 Highest and Lowest Salary (1.22.3)"
      ]
    },
    {
      "cell_type": "code",
      "execution_count": 12,
      "id": "b62f9aed",
      "metadata": {
        "id": "b62f9aed",
        "outputId": "5040fc33-f44c-42f5-80fc-9ab4580e1f0b",
        "colab": {
          "base_uri": "https://localhost:8080/"
        }
      },
      "outputs": [
        {
          "output_type": "stream",
          "name": "stdout",
          "text": [
            "95000\n",
            "60000\n"
          ]
        }
      ],
      "source": [
        "# Code Needed\n",
        "salaries_list = [70000, 85000, 60000, 95000, 80000]\n",
        "\n",
        "salaries_nplist = np.array(salaries_list)\n",
        "\n",
        "highest_salary = np.amax(salaries_nplist)\n",
        "print(highest_salary)\n",
        "\n",
        "lowest_salary = np.amin(salaries_nplist)\n",
        "print(lowest_salary)"
      ]
    },
    {
      "cell_type": "markdown",
      "id": "65bf8796",
      "metadata": {
        "id": "65bf8796"
      },
      "source": [
        "---"
      ]
    }
  ],
  "metadata": {
    "language_info": {
      "name": "python"
    },
    "colab": {
      "provenance": []
    },
    "kernelspec": {
      "name": "python3",
      "display_name": "Python 3"
    }
  },
  "nbformat": 4,
  "nbformat_minor": 5
}