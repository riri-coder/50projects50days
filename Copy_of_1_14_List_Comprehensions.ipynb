{
  "cells": [
    {
      "cell_type": "markdown",
      "metadata": {
        "id": "view-in-github",
        "colab_type": "text"
      },
      "source": [
        "<a href=\"https://colab.research.google.com/github/riri-coder/50projects50days/blob/master/Copy_of_1_14_List_Comprehensions.ipynb\" target=\"_parent\"><img src=\"https://colab.research.google.com/assets/colab-badge.svg\" alt=\"Open In Colab\"/></a>"
      ]
    },
    {
      "cell_type": "markdown",
      "id": "d867f31c",
      "metadata": {
        "id": "d867f31c"
      },
      "source": [
        "<a target=\"_blank\" href=\"https://colab.research.google.com/github/lukebarousse/Python_Data_Analytics_Course/blob/main/4_Problems/1_14_List Comprehensions.ipynb\">\n",
        "  <img src=\"https://colab.research.google.com/assets/colab-badge.svg\" alt=\"Open In Colab\"/>\n",
        "</a>"
      ]
    },
    {
      "cell_type": "markdown",
      "id": "9fbee277",
      "metadata": {
        "id": "9fbee277"
      },
      "source": [
        "## 🟩 Convert Salaries to EUR (1.14.1)"
      ]
    },
    {
      "cell_type": "code",
      "execution_count": null,
      "id": "9bf35e2c",
      "metadata": {
        "id": "9bf35e2c",
        "outputId": "04603c7e-70c2-40b1-9454-699107cd9a4c",
        "colab": {
          "base_uri": "https://localhost:8080/"
        }
      },
      "outputs": [
        {
          "output_type": "stream",
          "name": "stdout",
          "text": [
            "[95000.0, 114000.0, 76000.0, 85500.0]\n"
          ]
        }
      ],
      "source": [
        "# Code Needed\n",
        "salaries_usd = [100000, 120000, 80000, 90000]\n",
        "salaries_EUR =[]\n",
        "for salaries in salaries_usd:\n",
        "  euros = salaries * .95\n",
        "  salaries_EUR.append(euros)\n",
        "print(salaries_EUR)\n"
      ]
    },
    {
      "cell_type": "markdown",
      "id": "b39ae7d7",
      "metadata": {
        "id": "b39ae7d7"
      },
      "source": [
        "---"
      ]
    },
    {
      "cell_type": "markdown",
      "id": "9f4449d5",
      "metadata": {
        "id": "9f4449d5"
      },
      "source": [
        "## 🟨 Create List of Data Jobs (1.14.2)"
      ]
    },
    {
      "cell_type": "code",
      "execution_count": null,
      "id": "9bbcdc8f",
      "metadata": {
        "id": "9bbcdc8f",
        "outputId": "f4f6a080-7e51-4077-fbdf-c7334ecd5df6",
        "colab": {
          "base_uri": "https://localhost:8080/"
        }
      },
      "outputs": [
        {
          "output_type": "stream",
          "name": "stdout",
          "text": [
            "['Data Scientist', 'Data Analyst', 'Machine Learning Specialist', 'Data Engineer']\n"
          ]
        }
      ],
      "source": [
        "# Code Needed\n",
        "job_experience = {'Data Scientist': 3, 'Data Analyst': 1, 'Machine Learning Specialist': 4, 'Data Engineer': 2}\n",
        "job_list = []\n",
        "for jobs, years in job_experience.items():\n",
        "  job_list.append(jobs)\n",
        "\n",
        "print(job_list)"
      ]
    },
    {
      "cell_type": "markdown",
      "id": "7df2d173",
      "metadata": {
        "id": "7df2d173"
      },
      "source": [
        "---"
      ]
    },
    {
      "cell_type": "markdown",
      "id": "1e81b0cb",
      "metadata": {
        "id": "1e81b0cb"
      },
      "source": [
        "## 🟥 Extract High Salary Jobs (1.14.3)"
      ]
    },
    {
      "cell_type": "code",
      "execution_count": null,
      "id": "c3d8887b",
      "metadata": {
        "id": "c3d8887b",
        "outputId": "c3b030e3-554c-49b0-dc04-9d595a86f557",
        "colab": {
          "base_uri": "https://localhost:8080/"
        }
      },
      "outputs": [
        {
          "output_type": "stream",
          "name": "stdout",
          "text": [
            "[{'job_title': 'Data Scientist', 'salary': 100000}, {'job_title': 'Data Analyst', 'salary': 120000}]\n"
          ]
        }
      ],
      "source": [
        "# Code Needed\n",
        "job_salary_dicts = [{'job_title': 'Data Scientist', 'salary': 100000}, {'job_title': 'Data Analyst', 'salary': 120000}, {'job_title': 'Data Engineer', 'salary': 80000}]\n",
        "\n",
        "high_salary_dicts = []\n",
        "for jobs in job_salary_dicts:\n",
        "  if jobs['salary'] >= 100000:\n",
        "   high_salary_dicts.append(jobs)\n",
        "\n",
        "print(high_salary_dicts)"
      ]
    },
    {
      "cell_type": "markdown",
      "id": "fb79abd5",
      "metadata": {
        "id": "fb79abd5"
      },
      "source": [
        "---"
      ]
    }
  ],
  "metadata": {
    "colab": {
      "provenance": [],
      "include_colab_link": true
    },
    "language_info": {
      "name": "python"
    },
    "kernelspec": {
      "name": "python3",
      "display_name": "Python 3"
    }
  },
  "nbformat": 4,
  "nbformat_minor": 5
}